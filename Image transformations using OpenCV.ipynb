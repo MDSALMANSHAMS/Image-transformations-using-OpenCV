{
 "cells": [
  {
   "cell_type": "markdown",
   "id": "f8700754",
   "metadata": {},
   "source": [
    "# Image transformations"
   ]
  },
  {
   "cell_type": "code",
   "execution_count": 1,
   "id": "bf431bff",
   "metadata": {},
   "outputs": [],
   "source": [
    "import numpy as np\n",
    "import cv2 as cv"
   ]
  },
  {
   "cell_type": "code",
   "execution_count": 5,
   "id": "f56d4e9c",
   "metadata": {},
   "outputs": [
    {
     "data": {
      "text/plain": [
       "-1"
      ]
     },
     "execution_count": 5,
     "metadata": {},
     "output_type": "execute_result"
    }
   ],
   "source": [
    "img=cv.imread(\"F:\\Image\\Dog\\dog3.jpg\")\n",
    "cv.imshow('dog',img)\n",
    "cv.waitKey(0)"
   ]
  },
  {
   "cell_type": "markdown",
   "id": "883c8cff",
   "metadata": {},
   "source": [
    "## 1. Translation"
   ]
  },
  {
   "cell_type": "code",
   "execution_count": 6,
   "id": "ac5150fe",
   "metadata": {},
   "outputs": [
    {
     "data": {
      "text/plain": [
       "-1"
      ]
     },
     "execution_count": 6,
     "metadata": {},
     "output_type": "execute_result"
    }
   ],
   "source": [
    "def translate(img,x,y):\n",
    "    transMat=np.float32([[1,0,x],[0,1,y]])\n",
    "    dim=(img.shape[1],img.shape[0])\n",
    "    \n",
    "    return cv.warpAffine(img,transMat,dim)\n",
    "\n",
    "translated=translate(img,100,100)                # -x=left, x=right, -y=up, y=down\n",
    "cv.imshow('translated',translated)\n",
    "cv.waitKey(0)"
   ]
  },
  {
   "cell_type": "markdown",
   "id": "997c508b",
   "metadata": {},
   "source": [
    "## 2. Rotation"
   ]
  },
  {
   "cell_type": "code",
   "execution_count": 9,
   "id": "e4d2360e",
   "metadata": {},
   "outputs": [
    {
     "data": {
      "text/plain": [
       "-1"
      ]
     },
     "execution_count": 9,
     "metadata": {},
     "output_type": "execute_result"
    }
   ],
   "source": [
    "def rotate(img,rAngle,rPoint=None):\n",
    "    (height,width)=img.shape[:2]\n",
    "    \n",
    "    if rPoint is None:\n",
    "        rPoint=(width//2,height//2)\n",
    "        \n",
    "    rMat=cv.getRotationMatrix2D(rPoint,rAngle,1.0)\n",
    "    dim=(width,height)\n",
    "    \n",
    "    return cv.warpAffine(img,rMat,dim)\n",
    "\n",
    "rotated=rotate(img,45)\n",
    "cv.imshow('rotated',rotated)\n",
    "cv.waitKey(0)"
   ]
  },
  {
   "cell_type": "markdown",
   "id": "f5a37ab1",
   "metadata": {},
   "source": [
    "## 3. Resizing"
   ]
  },
  {
   "cell_type": "code",
   "execution_count": 11,
   "id": "c7c7ca0a",
   "metadata": {},
   "outputs": [
    {
     "data": {
      "text/plain": [
       "-1"
      ]
     },
     "execution_count": 11,
     "metadata": {},
     "output_type": "execute_result"
    }
   ],
   "source": [
    "resized=cv.resize(img,(400,400),interpolation=cv.INTER_CUBIC)\n",
    "cv.imshow('resized',resized)\n",
    "cv.waitKey(0)"
   ]
  },
  {
   "cell_type": "markdown",
   "id": "dc4889bb",
   "metadata": {},
   "source": [
    "## 4. Flipping"
   ]
  },
  {
   "cell_type": "code",
   "execution_count": 12,
   "id": "ea744aab",
   "metadata": {},
   "outputs": [
    {
     "data": {
      "text/plain": [
       "-1"
      ]
     },
     "execution_count": 12,
     "metadata": {},
     "output_type": "execute_result"
    }
   ],
   "source": [
    "flipped=cv.flip(img,-1)                 #0=verticaly, 1=hori., -1=both\n",
    "cv.imshow('flipped',flipped)\n",
    "cv.waitKey(0)"
   ]
  },
  {
   "cell_type": "markdown",
   "id": "a7ced8d4",
   "metadata": {},
   "source": [
    "## 5. Cropping"
   ]
  },
  {
   "cell_type": "code",
   "execution_count": null,
   "id": "fcadd900",
   "metadata": {},
   "outputs": [],
   "source": [
    "cropped=resized[100:400,0:200]\n",
    "cv.imshow('cropped',cropped)\n",
    "cv.waitKey(0)"
   ]
  },
  {
   "cell_type": "code",
   "execution_count": null,
   "id": "7f7a7e3d",
   "metadata": {},
   "outputs": [],
   "source": []
  }
 ],
 "metadata": {
  "kernelspec": {
   "display_name": "Python 3 (ipykernel)",
   "language": "python",
   "name": "python3"
  },
  "language_info": {
   "codemirror_mode": {
    "name": "ipython",
    "version": 3
   },
   "file_extension": ".py",
   "mimetype": "text/x-python",
   "name": "python",
   "nbconvert_exporter": "python",
   "pygments_lexer": "ipython3",
   "version": "3.9.7"
  }
 },
 "nbformat": 4,
 "nbformat_minor": 5
}
